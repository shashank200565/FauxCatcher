{
  "nbformat": 4,
  "nbformat_minor": 0,
  "metadata": {
    "colab": {
      "provenance": []
    },
    "kernelspec": {
      "name": "python3",
      "display_name": "Python 3"
    },
    "language_info": {
      "name": "python"
    }
  },
  "cells": [
    {
      "cell_type": "code",
      "execution_count": 1,
      "metadata": {
        "id": "090dmTwIwMG_"
      },
      "outputs": [],
      "source": [
        "import numpy as np\n",
        "import cv2"
      ]
    },
    {
      "cell_type": "code",
      "source": [
        "image = cv2.imread(\"/content/cut cat serhio 02-1813x1811-720x719.jpg\")"
      ],
      "metadata": {
        "id": "5Mcfzi_Tw6Y5"
      },
      "execution_count": 2,
      "outputs": []
    },
    {
      "cell_type": "code",
      "source": [
        "print(type(image))"
      ],
      "metadata": {
        "colab": {
          "base_uri": "https://localhost:8080/"
        },
        "id": "G4CgNv3WxgmJ",
        "outputId": "9b8073b8-69aa-430e-a040-3f507afcdc82"
      },
      "execution_count": 3,
      "outputs": [
        {
          "output_type": "stream",
          "name": "stdout",
          "text": [
            "<class 'numpy.ndarray'>\n"
          ]
        }
      ]
    },
    {
      "cell_type": "code",
      "source": [
        "image.shape"
      ],
      "metadata": {
        "colab": {
          "base_uri": "https://localhost:8080/"
        },
        "id": "oscZmBihxh9o",
        "outputId": "783f9022-d861-49e0-b85d-46d477d1ebe5"
      },
      "execution_count": 4,
      "outputs": [
        {
          "output_type": "execute_result",
          "data": {
            "text/plain": [
              "(719, 720, 3)"
            ]
          },
          "metadata": {},
          "execution_count": 4
        }
      ]
    },
    {
      "cell_type": "code",
      "source": [
        "image.resize(200,200)"
      ],
      "metadata": {
        "id": "42N2lvrbxjZ2"
      },
      "execution_count": 5,
      "outputs": []
    },
    {
      "cell_type": "code",
      "source": [
        "image.shape"
      ],
      "metadata": {
        "colab": {
          "base_uri": "https://localhost:8080/"
        },
        "id": "ulutb0igxqMc",
        "outputId": "3eae17a5-b549-4f23-c45a-28cd887e4bda"
      },
      "execution_count": 6,
      "outputs": [
        {
          "output_type": "execute_result",
          "data": {
            "text/plain": [
              "(200, 200)"
            ]
          },
          "metadata": {},
          "execution_count": 6
        }
      ]
    },
    {
      "cell_type": "code",
      "source": [
        "from PIL import Image"
      ],
      "metadata": {
        "id": "Q_U7LmjXxrBh"
      },
      "execution_count": 7,
      "outputs": []
    },
    {
      "cell_type": "code",
      "source": [
        "rgb_image = cv2.cvtColor(image, cv2.COLOR_BGR2RGB)"
      ],
      "metadata": {
        "id": "mgeuJlkuyivA"
      },
      "execution_count": 8,
      "outputs": []
    },
    {
      "cell_type": "code",
      "source": [
        "image"
      ],
      "metadata": {
        "colab": {
          "base_uri": "https://localhost:8080/",
          "height": 158
        },
        "id": "bw18ueIwyrli",
        "outputId": "110ce747-b9f6-458c-d9c9-faf04f316080"
      },
      "execution_count": 9,
      "outputs": [
        {
          "output_type": "execute_result",
          "data": {
            "text/plain": [
              "array([[ 90,  99,  96, ...,  14,  28,  27],\n",
              "       [ 13,  28,  27, ..., 102, 102, 101],\n",
              "       [103, 103, 101, ...,  93,  90,  92],\n",
              "       ...,\n",
              "       [ 89,  87,  85, ...,  98, 104, 111],\n",
              "       [ 96, 104, 111, ..., 116,  84, 100],\n",
              "       [117,  85, 101, ..., 103, 122,  88]], dtype=uint8)"
            ],
            "text/html": [
              "<style>\n",
              "      .ndarray_repr .ndarray_raw_data {\n",
              "        display: none;\n",
              "      }\n",
              "      .ndarray_repr.show_array .ndarray_raw_data {\n",
              "        display: block;\n",
              "      }\n",
              "      .ndarray_repr.show_array .ndarray_image_preview {\n",
              "        display: none;\n",
              "      }\n",
              "      </style>\n",
              "      <div id=\"id-c31052f5-d221-4831-93cd-31d9a3d7d8e8\" class=\"ndarray_repr\"><pre>ndarray (200, 200) <button style=\"padding: 0 2px;\">show data</button></pre><img src=\"data:image/png;base64,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\" class=\"ndarray_image_preview\" /><pre class=\"ndarray_raw_data\">array([[ 90,  99,  96, ...,  14,  28,  27],\n",
              "       [ 13,  28,  27, ..., 102, 102, 101],\n",
              "       [103, 103, 101, ...,  93,  90,  92],\n",
              "       ...,\n",
              "       [ 89,  87,  85, ...,  98, 104, 111],\n",
              "       [ 96, 104, 111, ..., 116,  84, 100],\n",
              "       [117,  85, 101, ..., 103, 122,  88]], dtype=uint8)</pre></div><script>\n",
              "      (() => {\n",
              "      const titles = ['show data', 'hide data'];\n",
              "      let index = 0\n",
              "      document.querySelector('#id-c31052f5-d221-4831-93cd-31d9a3d7d8e8 button').onclick = (e) => {\n",
              "        document.querySelector('#id-c31052f5-d221-4831-93cd-31d9a3d7d8e8').classList.toggle('show_array');\n",
              "        index = (++index) % 2;\n",
              "        document.querySelector('#id-c31052f5-d221-4831-93cd-31d9a3d7d8e8 button').textContent = titles[index];\n",
              "        e.preventDefault();\n",
              "        e.stopPropagation();\n",
              "      }\n",
              "      })();\n",
              "    </script>"
            ]
          },
          "metadata": {},
          "execution_count": 9
        }
      ]
    },
    {
      "cell_type": "code",
      "source": [
        "print(image)"
      ],
      "metadata": {
        "colab": {
          "base_uri": "https://localhost:8080/"
        },
        "id": "9g8W5N15ytGb",
        "outputId": "31c4d533-e3e4-417b-87a8-cb82afadde1f"
      },
      "execution_count": 10,
      "outputs": [
        {
          "output_type": "stream",
          "name": "stdout",
          "text": [
            "[[ 90  99  96 ...  14  28  27]\n",
            " [ 13  28  27 ... 102 102 101]\n",
            " [103 103 101 ...  93  90  92]\n",
            " ...\n",
            " [ 89  87  85 ...  98 104 111]\n",
            " [ 96 104 111 ... 116  84 100]\n",
            " [117  85 101 ... 103 122  88]]\n"
          ]
        }
      ]
    },
    {
      "cell_type": "code",
      "source": [
        "cv2.imwrite(\"new_image.png\",image)"
      ],
      "metadata": {
        "colab": {
          "base_uri": "https://localhost:8080/"
        },
        "id": "348L4pZUzA6O",
        "outputId": "baee9509-86be-4703-ef40-45cf60f5800b"
      },
      "execution_count": 19,
      "outputs": [
        {
          "output_type": "execute_result",
          "data": {
            "text/plain": [
              "True"
            ]
          },
          "metadata": {},
          "execution_count": 19
        }
      ]
    },
    {
      "cell_type": "code",
      "source": [
        "denoised = cv2.bilateralFilter(image,d=9, sigmaColor=75, sigmaSpace=75)\n",
        "cv2.imwrite(\"denoised_bilateral.png\", denoised)"
      ],
      "metadata": {
        "colab": {
          "base_uri": "https://localhost:8080/"
        },
        "id": "gZ7po124zX25",
        "outputId": "e7cf50b2-e67d-49cf-d7ce-c6ff89fd84bf"
      },
      "execution_count": 20,
      "outputs": [
        {
          "output_type": "execute_result",
          "data": {
            "text/plain": [
              "True"
            ]
          },
          "metadata": {},
          "execution_count": 20
        }
      ]
    },
    {
      "cell_type": "code",
      "source": [],
      "metadata": {
        "id": "YSNhvri91suC"
      },
      "execution_count": null,
      "outputs": []
    }
  ]
}